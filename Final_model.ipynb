{
  "nbformat": 4,
  "nbformat_minor": 0,
  "metadata": {
    "colab": {
      "provenance": []
    },
    "kernelspec": {
      "name": "python3",
      "display_name": "Python 3"
    },
    "language_info": {
      "name": "python"
    },
    "gpuClass": "standard",
    "accelerator": "GPU"
  },
  "cells": [
    {
      "cell_type": "code",
      "source": [
        "!pip install noisereduce"
      ],
      "metadata": {
        "id": "v4T3Xs9aFtM0",
        "colab": {
          "base_uri": "https://localhost:8080/"
        },
        "outputId": "970627ec-2605-4fa7-8da0-7b7bbe83de52"
      },
      "execution_count": null,
      "outputs": [
        {
          "output_type": "stream",
          "name": "stdout",
          "text": [
            "Looking in indexes: https://pypi.org/simple, https://us-python.pkg.dev/colab-wheels/public/simple/\n",
            "Collecting noisereduce\n",
            "  Downloading noisereduce-2.0.1-py3-none-any.whl (15 kB)\n",
            "Requirement already satisfied: tqdm in /usr/local/lib/python3.8/dist-packages (from noisereduce) (4.64.1)\n",
            "Requirement already satisfied: scipy in /usr/local/lib/python3.8/dist-packages (from noisereduce) (1.7.3)\n",
            "Requirement already satisfied: librosa in /usr/local/lib/python3.8/dist-packages (from noisereduce) (0.8.1)\n",
            "Requirement already satisfied: matplotlib in /usr/local/lib/python3.8/dist-packages (from noisereduce) (3.2.2)\n",
            "Requirement already satisfied: numpy in /usr/local/lib/python3.8/dist-packages (from noisereduce) (1.21.6)\n",
            "Requirement already satisfied: decorator>=3.0.0 in /usr/local/lib/python3.8/dist-packages (from librosa->noisereduce) (4.4.2)\n",
            "Requirement already satisfied: scikit-learn!=0.19.0,>=0.14.0 in /usr/local/lib/python3.8/dist-packages (from librosa->noisereduce) (1.0.2)\n",
            "Requirement already satisfied: pooch>=1.0 in /usr/local/lib/python3.8/dist-packages (from librosa->noisereduce) (1.6.0)\n",
            "Requirement already satisfied: packaging>=20.0 in /usr/local/lib/python3.8/dist-packages (from librosa->noisereduce) (21.3)\n",
            "Requirement already satisfied: resampy>=0.2.2 in /usr/local/lib/python3.8/dist-packages (from librosa->noisereduce) (0.4.2)\n",
            "Requirement already satisfied: soundfile>=0.10.2 in /usr/local/lib/python3.8/dist-packages (from librosa->noisereduce) (0.11.0)\n",
            "Requirement already satisfied: audioread>=2.0.0 in /usr/local/lib/python3.8/dist-packages (from librosa->noisereduce) (3.0.0)\n",
            "Requirement already satisfied: numba>=0.43.0 in /usr/local/lib/python3.8/dist-packages (from librosa->noisereduce) (0.56.4)\n",
            "Requirement already satisfied: joblib>=0.14 in /usr/local/lib/python3.8/dist-packages (from librosa->noisereduce) (1.2.0)\n",
            "Requirement already satisfied: setuptools in /usr/local/lib/python3.8/dist-packages (from numba>=0.43.0->librosa->noisereduce) (57.4.0)\n",
            "Requirement already satisfied: llvmlite<0.40,>=0.39.0dev0 in /usr/local/lib/python3.8/dist-packages (from numba>=0.43.0->librosa->noisereduce) (0.39.1)\n",
            "Requirement already satisfied: importlib-metadata in /usr/local/lib/python3.8/dist-packages (from numba>=0.43.0->librosa->noisereduce) (5.1.0)\n",
            "Requirement already satisfied: pyparsing!=3.0.5,>=2.0.2 in /usr/local/lib/python3.8/dist-packages (from packaging>=20.0->librosa->noisereduce) (3.0.9)\n",
            "Requirement already satisfied: requests>=2.19.0 in /usr/local/lib/python3.8/dist-packages (from pooch>=1.0->librosa->noisereduce) (2.23.0)\n",
            "Requirement already satisfied: appdirs>=1.3.0 in /usr/local/lib/python3.8/dist-packages (from pooch>=1.0->librosa->noisereduce) (1.4.4)\n",
            "Requirement already satisfied: urllib3!=1.25.0,!=1.25.1,<1.26,>=1.21.1 in /usr/local/lib/python3.8/dist-packages (from requests>=2.19.0->pooch>=1.0->librosa->noisereduce) (1.24.3)\n",
            "Requirement already satisfied: idna<3,>=2.5 in /usr/local/lib/python3.8/dist-packages (from requests>=2.19.0->pooch>=1.0->librosa->noisereduce) (2.10)\n",
            "Requirement already satisfied: chardet<4,>=3.0.2 in /usr/local/lib/python3.8/dist-packages (from requests>=2.19.0->pooch>=1.0->librosa->noisereduce) (3.0.4)\n",
            "Requirement already satisfied: certifi>=2017.4.17 in /usr/local/lib/python3.8/dist-packages (from requests>=2.19.0->pooch>=1.0->librosa->noisereduce) (2022.12.7)\n",
            "Requirement already satisfied: threadpoolctl>=2.0.0 in /usr/local/lib/python3.8/dist-packages (from scikit-learn!=0.19.0,>=0.14.0->librosa->noisereduce) (3.1.0)\n",
            "Requirement already satisfied: cffi>=1.0 in /usr/local/lib/python3.8/dist-packages (from soundfile>=0.10.2->librosa->noisereduce) (1.15.1)\n",
            "Requirement already satisfied: pycparser in /usr/local/lib/python3.8/dist-packages (from cffi>=1.0->soundfile>=0.10.2->librosa->noisereduce) (2.21)\n",
            "Requirement already satisfied: zipp>=0.5 in /usr/local/lib/python3.8/dist-packages (from importlib-metadata->numba>=0.43.0->librosa->noisereduce) (3.11.0)\n",
            "Requirement already satisfied: cycler>=0.10 in /usr/local/lib/python3.8/dist-packages (from matplotlib->noisereduce) (0.11.0)\n",
            "Requirement already satisfied: kiwisolver>=1.0.1 in /usr/local/lib/python3.8/dist-packages (from matplotlib->noisereduce) (1.4.4)\n",
            "Requirement already satisfied: python-dateutil>=2.1 in /usr/local/lib/python3.8/dist-packages (from matplotlib->noisereduce) (2.8.2)\n",
            "Requirement already satisfied: six>=1.5 in /usr/local/lib/python3.8/dist-packages (from python-dateutil>=2.1->matplotlib->noisereduce) (1.15.0)\n",
            "Installing collected packages: noisereduce\n",
            "Successfully installed noisereduce-2.0.1\n"
          ]
        }
      ]
    },
    {
      "cell_type": "code",
      "source": [
        "from google.colab import drive\n",
        "drive.mount('/content/drive')\n",
        "import librosa\n",
        "import librosa.display\n",
        "import matplotlib.pyplot as plt\n",
        "import scipy\n",
        "import numpy as np\n",
        "import pandas as pd\n",
        "from google.colab import drive\n",
        "import noisereduce as nr\n",
        "import cv2\n",
        "import math\n",
        "import os\n",
        "import tensorflow as tf\n",
        "from tensorflow.keras import layers, models\n",
        "\n",
        "from scipy.io import wavfile\n",
        "os.chdir('/content')"
      ],
      "metadata": {
        "id": "08szfUTAERRi",
        "colab": {
          "base_uri": "https://localhost:8080/"
        },
        "outputId": "ba38edf6-cf66-4403-b45c-7485ed073c29"
      },
      "execution_count": null,
      "outputs": [
        {
          "output_type": "stream",
          "name": "stdout",
          "text": [
            "Mounted at /content/drive\n"
          ]
        }
      ]
    },
    {
      "cell_type": "code",
      "source": [
        "file_name = \"drive/Shareddrives/ML_final_team01/presentation_use_voice/0_30female_2.mp3\"  #input"
      ],
      "metadata": {
        "id": "f9zf7oySeVQA"
      },
      "execution_count": null,
      "outputs": []
    },
    {
      "cell_type": "markdown",
      "source": [
        "## 1.Gender prediction from voice"
      ],
      "metadata": {
        "id": "ICRRhF7P_JyC"
      }
    },
    {
      "cell_type": "code",
      "source": [
        "def waveplot(path): \n",
        "  y, sr = librosa.load(path, sr = 20000)\n",
        "  # reduce noise\n",
        "  y_reduced = nr.reduce_noise(y=y, sr=sr)\n",
        "  # trim silence\n",
        "  y_trim, index = librosa.effects.trim(y_reduced, top_db = 20)\n",
        "  duration = librosa.get_duration(y_trim)\n",
        "\n",
        "  if duration * sr >= 30000:\n",
        "    y_int = y_trim[0:30000] # fixed the length to 30000 sample.\n",
        "  else:\n",
        "    y_int = y_trim\n",
        "    d = duration\n",
        "    while d * sr < 30000:\n",
        "        y_int = np.append(y_int, y_trim)\n",
        "        d += duration\n",
        "    y_int = y_int[0:30000]\n",
        "    \n",
        "  f0, _, _ = librosa.pyin(y_int, sr=sr, fmin=10, fmax=8000, frame_length=1024)\n",
        "\n",
        "  return f0"
      ],
      "metadata": {
        "id": "6PWExYY0_UwZ"
      },
      "execution_count": null,
      "outputs": []
    },
    {
      "cell_type": "code",
      "execution_count": null,
      "metadata": {
        "id": "8qeqM0Cq8PP3",
        "colab": {
          "base_uri": "https://localhost:8080/"
        },
        "outputId": "3e6e94e9-9838-4ad4-d1f0-64812bf5fe7c"
      },
      "outputs": [
        {
          "output_type": "stream",
          "name": "stderr",
          "text": [
            "/usr/local/lib/python3.8/dist-packages/librosa/core/audio.py:165: UserWarning: PySoundFile failed. Trying audioread instead.\n",
            "  warnings.warn(\"PySoundFile failed. Trying audioread instead.\")\n"
          ]
        }
      ],
      "source": [
        "# preprocess the data\n",
        "f0 = waveplot(file_name)\n",
        "f = ((np.nanmean(f0), np.nanmedian(f0), np.nanstd(f0), np.nanpercentile(f0, 5), np.nanpercentile(f0, 95) ))\n",
        "f = np.array(f)\n",
        "f = f.reshape(1,5)\n",
        "f = (f - 1.359040344925622) / (487.00182043715796 - 1.359040344925622)\n",
        " \n",
        "assert(np.nanmax(f) <= 1), 'please re-input the voice!'"
      ]
    },
    {
      "cell_type": "code",
      "source": [
        "# use pre-trained model to predict\n",
        "gender_model = models.load_model('drive/Shareddrives/ML_final_team01/gender_model')\n",
        "gender_pred = gender_model.predict(f)\n",
        "print(\"male : \", round(gender_pred[0][0] * 100, 1), \"%\")\n",
        "print(\"female: \", round(gender_pred[0][1] * 100, 1), \"%\")\n",
        "gender_pred = np.argmax(gender_pred)\n",
        "print(\"the voice is from a\" ,gender_pred == 0 and \"male\" or \"female\", '.')"
      ],
      "metadata": {
        "id": "18rd1279_xdq",
        "colab": {
          "base_uri": "https://localhost:8080/"
        },
        "outputId": "388d5194-6b8b-4eef-8cf8-e1465c3ac5b3"
      },
      "execution_count": null,
      "outputs": [
        {
          "output_type": "stream",
          "name": "stdout",
          "text": [
            "1/1 [==============================] - 0s 44ms/step\n",
            "male :  18.5 %\n",
            "female:  81.5 %\n",
            "the voice is from a female .\n"
          ]
        }
      ]
    },
    {
      "cell_type": "markdown",
      "source": [
        "## 2.Use the gender prediction to prediction age"
      ],
      "metadata": {
        "id": "wqp8MPi3_6OL"
      }
    },
    {
      "cell_type": "code",
      "source": [
        "male_pred_model = models.load_model('drive/Shareddrives/ML_final_team01/male-age-pred')\n",
        "female_pred_model = models.load_model('drive/Shareddrives/ML_final_team01/female-age-pred')"
      ],
      "metadata": {
        "id": "L-_psZCRd3vt",
        "colab": {
          "base_uri": "https://localhost:8080/"
        },
        "outputId": "f01d584f-2f50-4a36-961c-b89772f62041"
      },
      "execution_count": null,
      "outputs": [
        {
          "output_type": "stream",
          "name": "stderr",
          "text": [
            "WARNING:tensorflow:Detecting that an object or model or tf.train.Checkpoint is being deleted with unrestored values. See the following logs for the specific values in question. To silence these warnings, use `status.expect_partial()`. See https://www.tensorflow.org/api_docs/python/tf/train/Checkpoint#restorefor details about the status object returned by the restore function.\n",
            "WARNING:tensorflow:Value in checkpoint could not be found in the restored object: (root).layer-0._random_generator._generator._state_var\n",
            "WARNING:tensorflow:Detecting that an object or model or tf.train.Checkpoint is being deleted with unrestored values. See the following logs for the specific values in question. To silence these warnings, use `status.expect_partial()`. See https://www.tensorflow.org/api_docs/python/tf/train/Checkpoint#restorefor details about the status object returned by the restore function.\n",
            "WARNING:tensorflow:Value in checkpoint could not be found in the restored object: (root).layer-0._random_generator._generator._state_var\n",
            "WARNING:tensorflow:Detecting that an object or model or tf.train.Checkpoint is being deleted with unrestored values. See the following logs for the specific values in question. To silence these warnings, use `status.expect_partial()`. See https://www.tensorflow.org/api_docs/python/tf/train/Checkpoint#restorefor details about the status object returned by the restore function.\n",
            "WARNING:tensorflow:Value in checkpoint could not be found in the restored object: (root).layer-0._random_generator._generator._state_var\n"
          ]
        }
      ]
    },
    {
      "cell_type": "code",
      "source": [
        "# preprocess the voice to png\n",
        "y, sr = librosa.load(file_name, sr = 20000)\n",
        "y_reduced = nr.reduce_noise(y=y, sr=sr)\n",
        "assert np.isfinite(y_reduced).all(), 'please re-input the voice!' # the y_reduced might not finite everywhere.\n",
        "y_trim, index = librosa.effects.trim(y_reduced, top_db = 20)\n",
        "interval = librosa.effects.split(y_trim, top_db=20, frame_length = 1024)\n",
        "y_int = y_trim[interval[0][0]:interval[0][1]]\n",
        "for j in range(1, len(interval)):\n",
        "    y_int = np.append(y_int, y_trim[interval[j][0]:interval[j][1]])\n",
        "duration = librosa.get_duration(y_int)\n",
        "if duration * sr >= 30000:\n",
        "    y_int = y_int[0:30000]\n",
        "    x_stft = np.abs(librosa.stft(y_int))\n",
        "    x_stft = librosa.amplitude_to_db(x_stft, ref = np.max)\n",
        "    img = librosa.display.specshow(x_stft, sr = sr, x_axis = 'time', y_axis = 'log')\n",
        "    plt.savefig('temp.png')\n",
        "    \n",
        "else:  \n",
        "    y_sliced = y_int     # duplicate and concatenate to 30000 samples.\n",
        "    d = duration\n",
        "    while d * sr < 30000:\n",
        "        y_sliced = np.append(y_sliced, y_int)\n",
        "        d += duration\n",
        "    y_sliced = y_sliced[0:30000]\n",
        "    x_stft = np.abs(librosa.stft(y_sliced))\n",
        "    x_stft = librosa.amplitude_to_db(x_stft, ref = np.max)\n",
        "    img = librosa.display.specshow(x_stft, sr = sr, x_axis = 'time', y_axis = 'log')\n",
        "    plt.savefig('temp.png')"
      ],
      "metadata": {
        "id": "-9_wU-ekEsD0",
        "colab": {
          "base_uri": "https://localhost:8080/",
          "height": 314
        },
        "outputId": "a02c64a7-a96b-45a0-8af7-1337d5c695b0"
      },
      "execution_count": null,
      "outputs": [
        {
          "output_type": "stream",
          "name": "stderr",
          "text": [
            "/usr/local/lib/python3.8/dist-packages/librosa/core/audio.py:165: UserWarning: PySoundFile failed. Trying audioread instead.\n",
            "  warnings.warn(\"PySoundFile failed. Trying audioread instead.\")\n"
          ]
        },
        {
          "output_type": "display_data",
          "data": {
            "text/plain": [
              "<Figure size 432x288 with 1 Axes>"
            ],
            "image/png": "[encoded data removed]"
          },
          "metadata": {
            "needs_background": "light"
          }
        }
      ]
    },
    {
      "cell_type": "code",
      "source": [
        "img = cv2.imread('temp.png')\n",
        "img = cv2.cvtColor(img, cv2.COLOR_BGR2RGB) # convert it to RGB format\n",
        "img = img[35:251, 55:389]\n",
        "if gender_pred == 0:\n",
        "    print('using male model.')\n",
        "    pred = male_pred_model.predict(img.reshape(1, 216, 334, 3))\n",
        "elif gender_pred == 1:\n",
        "    print('using female model.')\n",
        "    pred = female_pred_model.predict(img.reshape(1, 216, 334, 3))\n",
        "# print(pred)"
      ],
      "metadata": {
        "id": "rAR4jFQTEnRH",
        "colab": {
          "base_uri": "https://localhost:8080/"
        },
        "outputId": "369bf22c-aa9c-4bfa-cdf6-6feb9bce8bd9"
      },
      "execution_count": null,
      "outputs": [
        {
          "output_type": "stream",
          "name": "stdout",
          "text": [
            "using female model.\n",
            "1/1 [==============================] - 0s 72ms/step\n"
          ]
        }
      ]
    },
    {
      "cell_type": "code",
      "source": [
        "age = ['0~30 years old', '30~50 years old', '50~70 years old', 'older than seventies']\n",
        "outcome = (-pred[0]).argsort()[:2]\n",
        "print(\"The voice is from\", age[outcome[0]], '.')\n",
        "\n",
        "#outcome = (-pred[0]).argsort()[:2]\n",
        "#print(round(pred[0][outcome[0]] * 100, 1), \"% from\", age[outcome[0]])\n",
        "#print(round(pred[0][outcome[1]] * 100, 1), \"% from\", age[outcome[1]])"
      ],
      "metadata": {
        "id": "U4Fmoh7VHqYH",
        "colab": {
          "base_uri": "https://localhost:8080/"
        },
        "outputId": "6c45d57d-9652-4cac-8aa5-60aa02653aeb"
      },
      "execution_count": null,
      "outputs": [
        {
          "output_type": "stream",
          "name": "stdout",
          "text": [
            "The voice is from 0~30 years old .\n"
          ]
        }
      ]
    }
  ]
}